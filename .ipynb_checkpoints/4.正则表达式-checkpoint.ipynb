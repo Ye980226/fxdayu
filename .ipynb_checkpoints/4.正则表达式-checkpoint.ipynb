{
 "cells": [
  {
   "cell_type": "markdown",
   "metadata": {},
   "source": [
    "# 正则小游戏**http://www.heibanke.com/lesson/crawler_ex00/**"
   ]
  },
  {
   "attachments": {
    "%E5%9B%BE%E7%89%87.png": {
     "image/png": "[encoded data removed]"
    }
   },
   "cell_type": "markdown",
   "metadata": {},
   "source": [
    "re 正则表达式 菜鸟教程**http://www.runoob.com/python/python-reg-expressions.html**\n",
    "![%E5%9B%BE%E7%89%87.png](attachment:%E5%9B%BE%E7%89%87.png)"
   ]
  },
  {
   "cell_type": "code",
   "execution_count": 2,
   "metadata": {},
   "outputs": [],
   "source": [
    "import requests\n",
    "base_url=\"http://www.heibanke.com/lesson/crawler_ex00/\"\n",
    "r=requests.get(base_url)"
   ]
  },
  {
   "cell_type": "code",
   "execution_count": 3,
   "metadata": {
    "scrolled": true
   },
   "outputs": [
    {
     "name": "stdout",
     "output_type": "stream",
     "text": [
      "36133\n",
      "72324\n",
      "57633\n",
      "91251\n",
      "87016\n",
      "77055\n",
      "30366\n",
      "83679\n",
      "31388\n",
      "99446\n",
      "69428\n",
      "34798\n",
      "16780\n",
      "36499\n",
      "21070\n",
      "96749\n",
      "71822\n",
      "48739\n",
      "62816\n",
      "80182\n",
      "68171\n",
      "45458\n",
      "56056\n",
      "87450\n",
      "52695\n",
      "36675\n",
      "25997\n",
      "73222\n",
      "93891\n",
      "29052\n",
      "72996\n",
      "73999\n",
      "23814\n",
      "98084\n",
      "51103\n",
      "39603\n",
      "34316\n",
      "55719\n",
      "53685\n",
      "77771\n",
      "69187\n",
      "89677\n",
      "71935\n",
      "98538\n",
      "79152\n",
      "70999\n",
      "35102\n",
      "75956\n",
      "19122\n",
      "54168\n",
      "运行了99s\n"
     ]
    }
   ],
   "source": [
    "import re\n",
    "count=1\n",
    "import time\n",
    "import sys\n",
    "start=time.time()\n",
    "def get_next(r):\n",
    "    number=re.search(\"<h3>.*?([0-9]+).*?</h3>\",r.text).group(1)\n",
    "    global count\n",
    "    count+=1\n",
    "#     print(count)\n",
    "    print(number)\n",
    "    url=base_url+number\n",
    "    return url\n",
    "while True:\n",
    "    try:\n",
    "        url=get_next(r)\n",
    "        r=requests.get(url)\n",
    "    except:\n",
    "        end_time=time.time()\n",
    "        print(\"运行了%ds\"%(end_time-start))\n",
    "        break\n",
    "        "
   ]
  },
  {
   "cell_type": "code",
   "execution_count": null,
   "metadata": {},
   "outputs": [],
   "source": []
  }
 ],
 "metadata": {
  "kernelspec": {
   "display_name": "Python 3",
   "language": "python",
   "name": "python3"
  },
  "language_info": {
   "codemirror_mode": {
    "name": "ipython",
    "version": 3
   },
   "file_extension": ".py",
   "mimetype": "text/x-python",
   "name": "python",
   "nbconvert_exporter": "python",
   "pygments_lexer": "ipython3",
   "version": "3.6.4"
  }
 },
 "nbformat": 4,
 "nbformat_minor": 2
}
